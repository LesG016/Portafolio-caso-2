{
  "nbformat": 4,
  "nbformat_minor": 0,
  "metadata": {
    "colab": {
      "provenance": [],
      "authorship_tag": "ABX9TyO/PLPZbc67o7F41r2XCL6L",
      "include_colab_link": true
    },
    "kernelspec": {
      "name": "ir",
      "display_name": "R"
    },
    "language_info": {
      "name": "R"
    }
  },
  "cells": [
    {
      "cell_type": "markdown",
      "metadata": {
        "id": "view-in-github",
        "colab_type": "text"
      },
      "source": [
        "<a href=\"https://colab.research.google.com/github/LesG016/Portafolio-caso-2/blob/main/Visualizaci%C3%B3n_de_datos_Tienda_de_ropa.ipynb\" target=\"_parent\"><img src=\"https://colab.research.google.com/assets/colab-badge.svg\" alt=\"Open In Colab\"/></a>"
      ]
    },
    {
      "cell_type": "code",
      "source": [
        "# Usar file.choose() para seleccionar el archivo de Excel desde tu sistema\n",
        "file <- file.choose()\n",
        "print(file)"
      ],
      "metadata": {
        "colab": {
          "base_uri": "https://localhost:8080/"
        },
        "id": "sO7sqte8WQkC",
        "outputId": "7581a8a4-7a99-47a8-86e7-878f4f93cdbc"
      },
      "execution_count": 31,
      "outputs": [
        {
          "output_type": "stream",
          "name": "stdout",
          "text": [
            "[1] \"p\\xa05\\x8a6\\\\\"\n"
          ]
        }
      ]
    },
    {
      "cell_type": "code",
      "source": [
        "# Instalar el paquete readxl (solo es necesario la primera vez)\n",
        "install.packages(\"readxl\")\n"
      ],
      "metadata": {
        "colab": {
          "base_uri": "https://localhost:8080/"
        },
        "id": "Yi9TG4z2Wfai",
        "outputId": "524d108e-e7f4-454d-f4d0-ef8a3e537a55"
      },
      "execution_count": 32,
      "outputs": [
        {
          "output_type": "stream",
          "name": "stderr",
          "text": [
            "Installing package into ‘/usr/local/lib/R/site-library’\n",
            "(as ‘lib’ is unspecified)\n",
            "\n"
          ]
        }
      ]
    },
    {
      "cell_type": "code",
      "source": [
        "# Cargar el paquete readxl\n",
        "library(readxl)"
      ],
      "metadata": {
        "id": "c8ZU5i4_Wl4k"
      },
      "execution_count": 33,
      "outputs": []
    },
    {
      "cell_type": "code",
      "source": [
        "# Especifica el nombre del archivo subido\n",
        "archivo <- \"myData1.xlsx\"\n"
      ],
      "metadata": {
        "id": "pe__ne61WnxK"
      },
      "execution_count": 34,
      "outputs": []
    },
    {
      "cell_type": "code",
      "source": [
        "# Lee el archivo de Excel\n",
        "datos <- read_excel(archivo)"
      ],
      "metadata": {
        "id": "Q5cGw0g0Wpp3"
      },
      "execution_count": 35,
      "outputs": []
    },
    {
      "cell_type": "code",
      "source": [
        "# Muestra el contenido del archivo\n",
        "print(datos)"
      ],
      "metadata": {
        "colab": {
          "base_uri": "https://localhost:8080/"
        },
        "id": "FffTlgOnWryF",
        "outputId": "c2cd1468-b949-4efe-aa6d-b4a0c99edcde"
      },
      "execution_count": 36,
      "outputs": [
        {
          "output_type": "stream",
          "name": "stdout",
          "text": [
            "\u001b[90m# A tibble: 3,900 × 13\u001b[39m\n",
            "   `Customer ID`   Age Gender ItemPurchased Category  PurchaseAmountUSD Location\n",
            "           \u001b[3m\u001b[90m<dbl>\u001b[39m\u001b[23m \u001b[3m\u001b[90m<dbl>\u001b[39m\u001b[23m \u001b[3m\u001b[90m<chr>\u001b[39m\u001b[23m  \u001b[3m\u001b[90m<chr>\u001b[39m\u001b[23m         \u001b[3m\u001b[90m<chr>\u001b[39m\u001b[23m                 \u001b[3m\u001b[90m<dbl>\u001b[39m\u001b[23m \u001b[3m\u001b[90m<chr>\u001b[39m\u001b[23m   \n",
            "\u001b[90m 1\u001b[39m             1    55 Male   Blouse        Clothing                 53 Kentucky\n",
            "\u001b[90m 2\u001b[39m             2    19 Male   Sweater       Clothing                 64 Maine   \n",
            "\u001b[90m 3\u001b[39m             3    50 Male   Jeans         Clothing                 73 Massach…\n",
            "\u001b[90m 4\u001b[39m             4    21 Male   Sandals       Footwear                 90 Rhode I…\n",
            "\u001b[90m 5\u001b[39m             5    45 Male   Blouse        Clothing                 49 Oregon  \n",
            "\u001b[90m 6\u001b[39m             6    46 Male   Sneakers      Footwear                 20 Wyoming \n",
            "\u001b[90m 7\u001b[39m             7    63 Male   Shirt         Clothing                 85 Montana \n",
            "\u001b[90m 8\u001b[39m             8    27 Male   Shorts        Clothing                 34 Louisia…\n",
            "\u001b[90m 9\u001b[39m             9    26 Male   Coat          Outerwear                97 West Vi…\n",
            "\u001b[90m10\u001b[39m            10    57 Male   Handbag       Accessor…                31 Missouri\n",
            "\u001b[90m# ℹ 3,890 more rows\u001b[39m\n",
            "\u001b[90m# ℹ 6 more variables: Size <chr>, Season <chr>, PromoCodeUsed <chr>,\u001b[39m\n",
            "\u001b[90m#   PreviousPurchases <dbl>, PaymentMethod <chr>, FrequencyOfPurchases <chr>\u001b[39m\n"
          ]
        }
      ]
    },
    {
      "cell_type": "code",
      "source": [
        "#Creación de gráfico de caja\n",
        "boxplot(datos$PurchaseAmountUSD, datos$PreviousPurchases, horizontal = TRUE, col = \"pink\")"
      ],
      "metadata": {
        "colab": {
          "base_uri": "https://localhost:8080/",
          "height": 437
        },
        "id": "YumwxEYyXkjn",
        "outputId": "c9063f06-ea0e-4365-b73d-67470232f260"
      },
      "execution_count": 44,
      "outputs": [
        {
          "output_type": "display_data",
          "data": {
            "text/plain": [
              "plot without title"
            ],
            "image/png": "[encoded data removed]"
          },
          "metadata": {
            "image/png": {
              "width": 420,
              "height": 420
            }
          }
        }
      ]
    },
    {
      "cell_type": "code",
      "source": [
        "#Ver valores atipicos específicos de Purchase Amount USD\n",
        "outlierPurchaseAmountUSD <- boxplot(datos$PurchaseAmountUSD)$out"
      ],
      "metadata": {
        "colab": {
          "base_uri": "https://localhost:8080/",
          "height": 437
        },
        "id": "9q-d81yxXupk",
        "outputId": "cef6a2b7-98d3-402b-c3dd-6cca62c4bfa6"
      },
      "execution_count": 45,
      "outputs": [
        {
          "output_type": "display_data",
          "data": {
            "text/plain": [
              "plot without title"
            ],
            "image/png": "[encoded data removed]"
          },
          "metadata": {
            "image/png": {
              "width": 420,
              "height": 420
            }
          }
        }
      ]
    },
    {
      "cell_type": "code",
      "source": [
        "#Creación de gráfica con nueva columna Purchase Amount USD\n",
        "datos$newPurchaseAmountUSD <- ifelse(datos$PurchaseAmountUSD %in% outlierPurchaseAmountUSD, NA, datos$PurchaseAmountUSD)"
      ],
      "metadata": {
        "id": "pH6UOkZjYLqk"
      },
      "execution_count": 48,
      "outputs": []
    },
    {
      "cell_type": "code",
      "source": [
        "#Gráfico de caja con nueva columna Purchase Amount USD\n",
        "boxplot(datos$newPurchaseAmountUSD, datos$PreviousPurchases, horizontal = TRUE,col=\"pink\")"
      ],
      "metadata": {
        "colab": {
          "base_uri": "https://localhost:8080/",
          "height": 437
        },
        "id": "mMSAgAN-Yage",
        "outputId": "556ffd0d-e473-4778-b16f-365a4e66bb43"
      },
      "execution_count": 51,
      "outputs": [
        {
          "output_type": "display_data",
          "data": {
            "text/plain": [
              "plot without title"
            ],
            "image/png": "[encoded data removed]"
          },
          "metadata": {
            "image/png": {
              "width": 420,
              "height": 420
            }
          }
        }
      ]
    }
  ]
}
