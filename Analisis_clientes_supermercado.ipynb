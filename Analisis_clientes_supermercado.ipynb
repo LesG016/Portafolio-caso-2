{
  "nbformat": 4,
  "nbformat_minor": 0,
  "metadata": {
    "colab": {
      "provenance": [],
      "authorship_tag": "ABX9TyP/OcGHxRihSAvP7s1IioqN",
      "include_colab_link": true
    },
    "kernelspec": {
      "name": "python3",
      "display_name": "Python 3"
    },
    "language_info": {
      "name": "python"
    }
  },
  "cells": [
    {
      "cell_type": "markdown",
      "metadata": {
        "id": "view-in-github",
        "colab_type": "text"
      },
      "source": [
        "<a href=\"https://colab.research.google.com/github/LesG016/Portafolio-caso-2/blob/main/Analisis_clientes_supermercado.ipynb\" target=\"_parent\"><img src=\"https://colab.research.google.com/assets/colab-badge.svg\" alt=\"Open In Colab\"/></a>"
      ]
    },
    {
      "cell_type": "code",
      "execution_count": 2,
      "metadata": {
        "colab": {
          "base_uri": "https://localhost:8080/",
          "height": 73
        },
        "id": "Z2B_-2xwfZqu",
        "outputId": "8d6d4f39-4206-4a90-acc7-ee9e59454799"
      },
      "outputs": [
        {
          "output_type": "display_data",
          "data": {
            "text/plain": [
              "<IPython.core.display.HTML object>"
            ],
            "text/html": [
              "\n",
              "     <input type=\"file\" id=\"files-b1565872-6bb6-4fe7-b6c2-64f7d83062d7\" name=\"files[]\" multiple disabled\n",
              "        style=\"border:none\" />\n",
              "     <output id=\"result-b1565872-6bb6-4fe7-b6c2-64f7d83062d7\">\n",
              "      Upload widget is only available when the cell has been executed in the\n",
              "      current browser session. Please rerun this cell to enable.\n",
              "      </output>\n",
              "      <script>// Copyright 2017 Google LLC\n",
              "//\n",
              "// Licensed under the Apache License, Version 2.0 (the \"License\");\n",
              "// you may not use this file except in compliance with the License.\n",
              "// You may obtain a copy of the License at\n",
              "//\n",
              "//      http://www.apache.org/licenses/LICENSE-2.0\n",
              "//\n",
              "// Unless required by applicable law or agreed to in writing, software\n",
              "// distributed under the License is distributed on an \"AS IS\" BASIS,\n",
              "// WITHOUT WARRANTIES OR CONDITIONS OF ANY KIND, either express or implied.\n",
              "// See the License for the specific language governing permissions and\n",
              "// limitations under the License.\n",
              "\n",
              "/**\n",
              " * @fileoverview Helpers for google.colab Python module.\n",
              " */\n",
              "(function(scope) {\n",
              "function span(text, styleAttributes = {}) {\n",
              "  const element = document.createElement('span');\n",
              "  element.textContent = text;\n",
              "  for (const key of Object.keys(styleAttributes)) {\n",
              "    element.style[key] = styleAttributes[key];\n",
              "  }\n",
              "  return element;\n",
              "}\n",
              "\n",
              "// Max number of bytes which will be uploaded at a time.\n",
              "const MAX_PAYLOAD_SIZE = 100 * 1024;\n",
              "\n",
              "function _uploadFiles(inputId, outputId) {\n",
              "  const steps = uploadFilesStep(inputId, outputId);\n",
              "  const outputElement = document.getElementById(outputId);\n",
              "  // Cache steps on the outputElement to make it available for the next call\n",
              "  // to uploadFilesContinue from Python.\n",
              "  outputElement.steps = steps;\n",
              "\n",
              "  return _uploadFilesContinue(outputId);\n",
              "}\n",
              "\n",
              "// This is roughly an async generator (not supported in the browser yet),\n",
              "// where there are multiple asynchronous steps and the Python side is going\n",
              "// to poll for completion of each step.\n",
              "// This uses a Promise to block the python side on completion of each step,\n",
              "// then passes the result of the previous step as the input to the next step.\n",
              "function _uploadFilesContinue(outputId) {\n",
              "  const outputElement = document.getElementById(outputId);\n",
              "  const steps = outputElement.steps;\n",
              "\n",
              "  const next = steps.next(outputElement.lastPromiseValue);\n",
              "  return Promise.resolve(next.value.promise).then((value) => {\n",
              "    // Cache the last promise value to make it available to the next\n",
              "    // step of the generator.\n",
              "    outputElement.lastPromiseValue = value;\n",
              "    return next.value.response;\n",
              "  });\n",
              "}\n",
              "\n",
              "/**\n",
              " * Generator function which is called between each async step of the upload\n",
              " * process.\n",
              " * @param {string} inputId Element ID of the input file picker element.\n",
              " * @param {string} outputId Element ID of the output display.\n",
              " * @return {!Iterable<!Object>} Iterable of next steps.\n",
              " */\n",
              "function* uploadFilesStep(inputId, outputId) {\n",
              "  const inputElement = document.getElementById(inputId);\n",
              "  inputElement.disabled = false;\n",
              "\n",
              "  const outputElement = document.getElementById(outputId);\n",
              "  outputElement.innerHTML = '';\n",
              "\n",
              "  const pickedPromise = new Promise((resolve) => {\n",
              "    inputElement.addEventListener('change', (e) => {\n",
              "      resolve(e.target.files);\n",
              "    });\n",
              "  });\n",
              "\n",
              "  const cancel = document.createElement('button');\n",
              "  inputElement.parentElement.appendChild(cancel);\n",
              "  cancel.textContent = 'Cancel upload';\n",
              "  const cancelPromise = new Promise((resolve) => {\n",
              "    cancel.onclick = () => {\n",
              "      resolve(null);\n",
              "    };\n",
              "  });\n",
              "\n",
              "  // Wait for the user to pick the files.\n",
              "  const files = yield {\n",
              "    promise: Promise.race([pickedPromise, cancelPromise]),\n",
              "    response: {\n",
              "      action: 'starting',\n",
              "    }\n",
              "  };\n",
              "\n",
              "  cancel.remove();\n",
              "\n",
              "  // Disable the input element since further picks are not allowed.\n",
              "  inputElement.disabled = true;\n",
              "\n",
              "  if (!files) {\n",
              "    return {\n",
              "      response: {\n",
              "        action: 'complete',\n",
              "      }\n",
              "    };\n",
              "  }\n",
              "\n",
              "  for (const file of files) {\n",
              "    const li = document.createElement('li');\n",
              "    li.append(span(file.name, {fontWeight: 'bold'}));\n",
              "    li.append(span(\n",
              "        `(${file.type || 'n/a'}) - ${file.size} bytes, ` +\n",
              "        `last modified: ${\n",
              "            file.lastModifiedDate ? file.lastModifiedDate.toLocaleDateString() :\n",
              "                                    'n/a'} - `));\n",
              "    const percent = span('0% done');\n",
              "    li.appendChild(percent);\n",
              "\n",
              "    outputElement.appendChild(li);\n",
              "\n",
              "    const fileDataPromise = new Promise((resolve) => {\n",
              "      const reader = new FileReader();\n",
              "      reader.onload = (e) => {\n",
              "        resolve(e.target.result);\n",
              "      };\n",
              "      reader.readAsArrayBuffer(file);\n",
              "    });\n",
              "    // Wait for the data to be ready.\n",
              "    let fileData = yield {\n",
              "      promise: fileDataPromise,\n",
              "      response: {\n",
              "        action: 'continue',\n",
              "      }\n",
              "    };\n",
              "\n",
              "    // Use a chunked sending to avoid message size limits. See b/62115660.\n",
              "    let position = 0;\n",
              "    do {\n",
              "      const length = Math.min(fileData.byteLength - position, MAX_PAYLOAD_SIZE);\n",
              "      const chunk = new Uint8Array(fileData, position, length);\n",
              "      position += length;\n",
              "\n",
              "      const base64 = btoa(String.fromCharCode.apply(null, chunk));\n",
              "      yield {\n",
              "        response: {\n",
              "          action: 'append',\n",
              "          file: file.name,\n",
              "          data: base64,\n",
              "        },\n",
              "      };\n",
              "\n",
              "      let percentDone = fileData.byteLength === 0 ?\n",
              "          100 :\n",
              "          Math.round((position / fileData.byteLength) * 100);\n",
              "      percent.textContent = `${percentDone}% done`;\n",
              "\n",
              "    } while (position < fileData.byteLength);\n",
              "  }\n",
              "\n",
              "  // All done.\n",
              "  yield {\n",
              "    response: {\n",
              "      action: 'complete',\n",
              "    }\n",
              "  };\n",
              "}\n",
              "\n",
              "scope.google = scope.google || {};\n",
              "scope.google.colab = scope.google.colab || {};\n",
              "scope.google.colab._files = {\n",
              "  _uploadFiles,\n",
              "  _uploadFilesContinue,\n",
              "};\n",
              "})(self);\n",
              "</script> "
            ]
          },
          "metadata": {}
        },
        {
          "output_type": "stream",
          "name": "stdout",
          "text": [
            "Saving clientes.xlsx to clientes.xlsx\n"
          ]
        }
      ],
      "source": [
        "import pandas as pd\n",
        "#Biblioteca de análisis de datos, muestra estructuras de datos y herramientas para trabajar datos tabulares.\n",
        "from sklearn.preprocessing import LabelEncoder\n",
        "#Permite dividir datos en conjuntos de entrenamiento y prueba.\n",
        "from google.colab import files\n",
        "#Para subir archivos desde nuestro sistema local a colab\n",
        "\n",
        "# Subir archivo\n",
        "uploaded = files.upload()\n",
        "\n",
        "# Cargar el archivo\n",
        "ruta_archivo = 'clientes.xlsx'\n",
        "data = pd.read_excel(ruta_archivo)"
      ]
    },
    {
      "cell_type": "code",
      "source": [
        "# Limpiar los datos\n",
        "data.dropna(inplace=True)\n",
        "\n",
        "# Convertir datos categóricos a numéricos\n",
        "label_encoder = LabelEncoder()\n",
        "data['Education'] = label_encoder.fit_transform(data['Education'])\n",
        "data['Marital_Status'] = label_encoder.fit_transform(data['Marital_Status'])\n",
        "\n",
        "print(\"Datos después de la limpieza y codificación:\")\n",
        "print(data.head())"
      ],
      "metadata": {
        "colab": {
          "base_uri": "https://localhost:8080/"
        },
        "id": "jsUZz-cHgMZV",
        "outputId": "52cf548b-de4a-44a5-8bd8-8064aa44801e"
      },
      "execution_count": 3,
      "outputs": [
        {
          "output_type": "stream",
          "name": "stdout",
          "text": [
            "Datos después de la limpieza y codificación:\n",
            "     ID  Year_Birth  Education  Marital_Status   Income  Kidhome  Teenhome  \\\n",
            "0  5524        1957          2               4  58138.0        0         0   \n",
            "1  2174        1954          2               4  46344.0        1         1   \n",
            "2  4141        1965          2               5  71613.0        0         0   \n",
            "3  6182        1984          2               5  26646.0        1         0   \n",
            "4  5324        1981          4               3  58293.0        1         0   \n",
            "\n",
            "  Dt_Customer  Recency  MntWines  ...  MntMeatProducts  MntFishProducts  \\\n",
            "0  2012-09-04       58       635  ...              546              172   \n",
            "1  2014-03-08       38        11  ...                6                2   \n",
            "2  2013-08-21       26       426  ...              127              111   \n",
            "3  2014-02-10       26        11  ...               20               10   \n",
            "4  2014-01-19       94       173  ...              118               46   \n",
            "\n",
            "   MntSweetProducts  MntGoldProds  NumDealsPurchases  NumWebPurchases  \\\n",
            "0                88            88                  3                8   \n",
            "1                 1             6                  2                1   \n",
            "2                21            42                  1                8   \n",
            "3                 3             5                  2                2   \n",
            "4                27            15                  5                5   \n",
            "\n",
            "   NumCatalogPurchases  NumStorePurchases  NumWebVisitsMonth  Z_CostContact  \n",
            "0                   10                  4                  7              3  \n",
            "1                    1                  2                  5              3  \n",
            "2                    2                 10                  4              3  \n",
            "3                    0                  4                  6              3  \n",
            "4                    3                  6                  5              3  \n",
            "\n",
            "[5 rows x 21 columns]\n"
          ]
        }
      ]
    },
    {
      "cell_type": "code",
      "source": [
        "# Codificar variables categóricas\n",
        "label_encoder_marital_status = LabelEncoder()\n",
        "label_encoder_education = LabelEncoder()\n",
        "\n",
        "# Ajustar y transformar las columnas categóricas\n",
        "data['Marital_Status'] = label_encoder_marital_status.fit_transform(data['Marital_Status'])\n",
        "data['Education'] = label_encoder_education.fit_transform(data['Education'])\n"
      ],
      "metadata": {
        "id": "fdEtJUVwgQpN"
      },
      "execution_count": 8,
      "outputs": []
    },
    {
      "cell_type": "code",
      "source": [
        "# Pregunta 1: ¿Qué grupo consume más carnes?\n",
        "grupo_carnes = data.groupby(['Marital_Status', 'Education'])['MntMeatProducts'].mean().reset_index()\n",
        "grupo_carnes = grupo_carnes.sort_values(by='MntMeatProducts', ascending=False)\n",
        "\n",
        "# Mapeo de los valores codificados a las etiquetas originales\n",
        "marital_status_labels = label_encoder_marital_status.classes_\n",
        "education_labels = label_encoder_education.classes_\n",
        "\n",
        "# Crear diccionarios de mapeo\n",
        "marital_status_map = {i: label for i, label in enumerate(marital_status_labels)}\n",
        "education_map = {i: label for i, label in enumerate(education_labels)}\n",
        "\n",
        "# Reemplazar valores numéricos por etiquetas originales en los resultados\n",
        "grupo_carnes['Marital_Status'] = grupo_carnes['Marital_Status'].map(marital_status_map)\n",
        "grupo_carnes['Education'] = grupo_carnes['Education'].map(education_map)\n",
        "\n",
        "print(\"Grupos que más consumen carnes:\")\n",
        "print(grupo_carnes.head())\n"
      ],
      "metadata": {
        "colab": {
          "base_uri": "https://localhost:8080/"
        },
        "id": "H1ADfgVpg6D1",
        "outputId": "ffea1142-7480-4789-f6fa-6b55177cb7e4"
      },
      "execution_count": 12,
      "outputs": [
        {
          "output_type": "stream",
          "name": "stdout",
          "text": [
            "Grupos que más consumen carnes:\n",
            "    Marital_Status  Education  MntMeatProducts\n",
            "1                0          3       500.000000\n",
            "18               4          3       238.400000\n",
            "28               6          3       203.545455\n",
            "27               6          2       197.714286\n",
            "17               4          2       192.097561\n"
          ]
        }
      ]
    },
    {
      "cell_type": "code",
      "source": [
        "# Pregunta 2: ¿Quienes consumen más por catálogos?\n",
        "grupo_catalogos = data.groupby(['Marital_Status', 'Education'])['NumCatalogPurchases'].mean().reset_index()\n",
        "grupo_catalogos = grupo_catalogos.sort_values(by='NumCatalogPurchases', ascending=False)\n",
        "\n",
        "# Reemplazar valores numéricos por etiquetas originales en los resultados\n",
        "grupo_catalogos['Marital_Status'] = grupo_catalogos['Marital_Status'].map(marital_status_map)\n",
        "grupo_catalogos['Education'] = grupo_catalogos['Education'].map(education_map)\n",
        "\n",
        "print(\"Grupos que más consumen por catálogos:\")\n",
        "print(grupo_catalogos.head())"
      ],
      "metadata": {
        "colab": {
          "base_uri": "https://localhost:8080/"
        },
        "id": "bMFdjpdLhexm",
        "outputId": "cbb06e45-6a7a-4921-b1e7-a7be1378f9f5"
      },
      "execution_count": 13,
      "outputs": [
        {
          "output_type": "stream",
          "name": "stdout",
          "text": [
            "Grupos que más consumen por catálogos:\n",
            "    Marital_Status  Education  NumCatalogPurchases\n",
            "0                0          2            10.000000\n",
            "1                0          3             5.000000\n",
            "29               6          4             3.500000\n",
            "28               6          3             3.454545\n",
            "14               3          4             3.226316\n"
          ]
        }
      ]
    },
    {
      "cell_type": "code",
      "source": [
        "# Pregunta 3: ¿Quiénes compran más en línea?\n",
        "grupo_linea = data.groupby(['Marital_Status', 'Education'])['NumWebPurchases'].mean().reset_index()\n",
        "grupo_linea = grupo_linea.sort_values(by='NumWebPurchases', ascending=False)\n",
        "\n",
        "# Reemplazar valores numéricos por etiquetas originales en los resultados\n",
        "grupo_linea['Marital_Status'] = grupo_linea['Marital_Status'].map(marital_status_map)\n",
        "grupo_linea['Education'] = grupo_linea['Education'].map(education_map)\n",
        "\n",
        "print(\"Grupos que más compran en línea:\")\n",
        "print(grupo_linea.head())"
      ],
      "metadata": {
        "colab": {
          "base_uri": "https://localhost:8080/"
        },
        "id": "-8VXMrX4hjW4",
        "outputId": "b1b6556a-a7da-4af0-ec72-fb589e14a188"
      },
      "execution_count": 14,
      "outputs": [
        {
          "output_type": "stream",
          "name": "stdout",
          "text": [
            "Grupos que más compran en línea:\n",
            "    Marital_Status  Education  NumWebPurchases\n",
            "3                1          3        11.000000\n",
            "30               7          4         7.000000\n",
            "28               6          3         5.545455\n",
            "29               6          4         5.333333\n",
            "5                2          0         4.695652\n"
          ]
        }
      ]
    }
  ]
}