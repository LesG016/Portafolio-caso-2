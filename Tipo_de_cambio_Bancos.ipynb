{
  "nbformat": 4,
  "nbformat_minor": 0,
  "metadata": {
    "colab": {
      "provenance": [],
      "authorship_tag": "ABX9TyMX8ATu0xvAC9ho4WIZlefO",
      "include_colab_link": true
    },
    "kernelspec": {
      "name": "ir",
      "display_name": "R"
    },
    "language_info": {
      "name": "R"
    }
  },
  "cells": [
    {
      "cell_type": "markdown",
      "metadata": {
        "id": "view-in-github",
        "colab_type": "text"
      },
      "source": [
        "<a href=\"https://colab.research.google.com/github/LesG016/Portafolio-caso-2/blob/main/Tipo_de_cambio_Bancos.ipynb\" target=\"_parent\"><img src=\"https://colab.research.google.com/assets/colab-badge.svg\" alt=\"Open In Colab\"/></a>"
      ]
    },
    {
      "cell_type": "code",
      "execution_count": 118,
      "metadata": {
        "id": "lOrmpilm8dAZ",
        "colab": {
          "base_uri": "https://localhost:8080/"
        },
        "outputId": "968b169e-bbb0-4234-eeaa-5f4c8afbe4fb"
      },
      "outputs": [
        {
          "output_type": "stream",
          "name": "stderr",
          "text": [
            "Installing package into ‘/usr/local/lib/R/site-library’\n",
            "(as ‘lib’ is unspecified)\n",
            "\n",
            "Installing package into ‘/usr/local/lib/R/site-library’\n",
            "(as ‘lib’ is unspecified)\n",
            "\n",
            "Installing package into ‘/usr/local/lib/R/site-library’\n",
            "(as ‘lib’ is unspecified)\n",
            "\n",
            "Installing package into ‘/usr/local/lib/R/site-library’\n",
            "(as ‘lib’ is unspecified)\n",
            "\n",
            "Installing package into ‘/usr/local/lib/R/site-library’\n",
            "(as ‘lib’ is unspecified)\n",
            "\n",
            "Installing package into ‘/usr/local/lib/R/site-library’\n",
            "(as ‘lib’ is unspecified)\n",
            "\n"
          ]
        }
      ],
      "source": [
        "# Instalar las librerías que facilitan la extracción y maipulación de los datos\n",
        "install.packages(\"rvest\")\n",
        "install.packages(\"dplyr\")\n",
        "install.packages(\"stringr\")\n",
        "install.packages(\"tidyverse\")\n",
        "install.packages(\"httr\")\n",
        "install.packages(\"magrittr\")"
      ]
    },
    {
      "cell_type": "code",
      "source": [
        "#Cargar las librerias previamente instaladas\n",
        "library(rvest)\n",
        "library(dplyr)\n",
        "library(stringr)\n",
        "library(tidyverse)\n",
        "library(httr)\n",
        "library(magrittr)"
      ],
      "metadata": {
        "id": "LR01aSYWKjx-"
      },
      "execution_count": 119,
      "outputs": []
    },
    {
      "cell_type": "code",
      "source": [
        "# Enlace a la página web del Banco Agromercantil de Guatemala\n",
        "url <- 'https://www.bam.com.gt/empresas/transaccional/compra-y-venta-de-divisas/'\n",
        "\n",
        "# Leer el contenido de la página web del Banco Agromercantil de Guatemala\n",
        "webpage <- read_html(url)"
      ],
      "metadata": {
        "id": "an_vrTw8K7X6"
      },
      "execution_count": 122,
      "outputs": []
    },
    {
      "cell_type": "code",
      "source": [
        "# Extraer el precio del tipo de cambio del Banco Agromercantil de Guatemala\n",
        "tipo_cambio_node <- webpage %>%\n",
        "  html_nodes(\"span:contains('Compra: Q.')\") %>%\n",
        "  html_text()\n",
        "\n",
        "# Extraer solo el valor de tipo de cambio de la cadena de Banco Agromercantil de Guatemala\n",
        "tipo_cambio <- gsub(\"Compra: \", \"\", tipo_cambio_node)\n",
        "\n",
        "# Imprimir el tipo de cambio\n",
        "print(paste(\"El tipo de cambio en el Banco Agromercantil (BAM) es de\", tipo_cambio))"
      ],
      "metadata": {
        "colab": {
          "base_uri": "https://localhost:8080/"
        },
        "id": "r293nAGTxSew",
        "outputId": "3380b7e2-dc4d-4457-85d8-df1c1444c2fe"
      },
      "execution_count": 124,
      "outputs": [
        {
          "output_type": "stream",
          "name": "stdout",
          "text": [
            "[1] \"El tipo de cambio en el Banco Agromercantil (BAM) es de Q. 7.53\"\n"
          ]
        }
      ]
    },
    {
      "cell_type": "code",
      "source": [
        "# Añadir enlace de la página web del Banco Ficohsa\n",
        "url2 <- 'https://www.chn.com.gt/'\n",
        "\n",
        "# Leer el contenido de la página web\n",
        "webpage2 <-read_html(url2)"
      ],
      "metadata": {
        "id": "N7q-uJ6O9alN"
      },
      "execution_count": 126,
      "outputs": []
    },
    {
      "cell_type": "code",
      "source": [
        "# Extraer el tipo de cambio del Banco Ficohsa\n",
        "tipo_cambio_node2 <- webpage2 %>%\n",
        "  html_nodes(xpath = '//*[@id=\"compra_mobile\"]') %>%\n",
        "  html_text()\n",
        "\n",
        "# Limpiar el texto extraído para obtener solo el valor de tipo de cambio\n",
        "tipo_cambio2 <- gsub(\"Compra: \", \"\", tipo_cambio_node2)\n",
        "\n",
        "# Imprimir el tipo de cambio\n",
        "  print(paste(\"El tipo de cambio en el Banco Ficohsa es de\", tipo_cambio2[2]))"
      ],
      "metadata": {
        "colab": {
          "base_uri": "https://localhost:8080/"
        },
        "id": "jcazB511O5RB",
        "outputId": "78ad16d1-0a32-4e63-d1a5-812ee80a1840"
      },
      "execution_count": 128,
      "outputs": [
        {
          "output_type": "stream",
          "name": "stdout",
          "text": [
            "[1] \"El tipo de cambio en el Banco Ficohsa es de 7.60\"\n"
          ]
        }
      ]
    },
    {
      "cell_type": "code",
      "source": [
        "# Comparar los tipos de cambio y encontrar el más bajo\n",
        "tipo_cambio_mas_bajo <- max(tipo_cambio, tipo_cambio2[2], na.rm = TRUE)\n",
        "\n",
        "# Si el precio es igual indicar que es posible comprar en cualquiera de los bancos\n",
        "if (tipo_cambio == tipo_cambio2[2]) {\n",
        "  mensaje <- paste(\"Los tipos de cambio son iguales. Puede comprar en cualquier banco a un precio de Q\", tipo_cambio)\n",
        "} else {\n",
        "\n",
        "#Encontrar el tipo de cambio más bajo\n",
        "  tipo_cambio_mas_bajo <- min(tipo_cambio, tipo_cambio2[2], na.rm = TRUE)}\n",
        "\n",
        "#Nombres de los bancos\n",
        "Banco1<- \"Banco Agromercantil\"\n",
        "Banco2 <- \"Banco Ficohsa\"\n",
        "\n",
        "#Colocar el nombre del banco con precio más bajo\n",
        "banco_recomendado <- ifelse(tipo_cambio_mas_bajo == tipo_cambio, Banco1, Banco2)\n",
        "\n",
        "print(paste(\"Se recomienda comprar en el banco\", banco_recomendado, \"a un precio de\", tipo_cambio_mas_bajo))"
      ],
      "metadata": {
        "id": "tFlw_LQugTRT",
        "colab": {
          "base_uri": "https://localhost:8080/"
        },
        "outputId": "db08afc6-b55a-4af4-a0cc-1a1e6b3659be"
      },
      "execution_count": 151,
      "outputs": [
        {
          "output_type": "stream",
          "name": "stdout",
          "text": [
            "[1] \"Se recomienda comprar en el banco Banco Ficohsa a un precio de 7.60\"\n"
          ]
        }
      ]
    }
  ]
}