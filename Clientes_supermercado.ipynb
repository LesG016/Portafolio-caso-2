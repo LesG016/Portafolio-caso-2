{
  "nbformat": 4,
  "nbformat_minor": 0,
  "metadata": {
    "colab": {
      "provenance": [],
      "authorship_tag": "ABX9TyPskCmGjjyil8ZPSvIXRPYP",
      "include_colab_link": true
    },
    "kernelspec": {
      "name": "python3",
      "display_name": "Python 3"
    },
    "language_info": {
      "name": "python"
    },
    "widgets": {
      "application/vnd.jupyter.widget-state+json": {
        "476f1bd3e05e461f9b4aedb7d13992cc": {
          "model_module": "@jupyter-widgets/controls",
          "model_name": "IntTextModel",
          "model_module_version": "1.5.0",
          "state": {
            "_dom_classes": [],
            "_model_module": "@jupyter-widgets/controls",
            "_model_module_version": "1.5.0",
            "_model_name": "IntTextModel",
            "_view_count": null,
            "_view_module": "@jupyter-widgets/controls",
            "_view_module_version": "1.5.0",
            "_view_name": "IntTextView",
            "continuous_update": false,
            "description": "Año nacimiento:",
            "description_tooltip": null,
            "disabled": false,
            "layout": "IPY_MODEL_dae5990cd2f14f909eea9584b21234b4",
            "step": 1,
            "style": "IPY_MODEL_de32fe78fef24ccd8c03ce5f039d3cc1",
            "value": 0
          }
        },
        "dae5990cd2f14f909eea9584b21234b4": {
          "model_module": "@jupyter-widgets/base",
          "model_name": "LayoutModel",
          "model_module_version": "1.2.0",
          "state": {
            "_model_module": "@jupyter-widgets/base",
            "_model_module_version": "1.2.0",
            "_model_name": "LayoutModel",
            "_view_count": null,
            "_view_module": "@jupyter-widgets/base",
            "_view_module_version": "1.2.0",
            "_view_name": "LayoutView",
            "align_content": null,
            "align_items": null,
            "align_self": null,
            "border": null,
            "bottom": null,
            "display": null,
            "flex": null,
            "flex_flow": null,
            "grid_area": null,
            "grid_auto_columns": null,
            "grid_auto_flow": null,
            "grid_auto_rows": null,
            "grid_column": null,
            "grid_gap": null,
            "grid_row": null,
            "grid_template_areas": null,
            "grid_template_columns": null,
            "grid_template_rows": null,
            "height": null,
            "justify_content": null,
            "justify_items": null,
            "left": null,
            "margin": null,
            "max_height": null,
            "max_width": null,
            "min_height": null,
            "min_width": null,
            "object_fit": null,
            "object_position": null,
            "order": null,
            "overflow": null,
            "overflow_x": null,
            "overflow_y": null,
            "padding": null,
            "right": null,
            "top": null,
            "visibility": null,
            "width": null
          }
        },
        "de32fe78fef24ccd8c03ce5f039d3cc1": {
          "model_module": "@jupyter-widgets/controls",
          "model_name": "DescriptionStyleModel",
          "model_module_version": "1.5.0",
          "state": {
            "_model_module": "@jupyter-widgets/controls",
            "_model_module_version": "1.5.0",
            "_model_name": "DescriptionStyleModel",
            "_view_count": null,
            "_view_module": "@jupyter-widgets/base",
            "_view_module_version": "1.2.0",
            "_view_name": "StyleView",
            "description_width": ""
          }
        },
        "d9f5b40495934e10b75d685d8d99ba0c": {
          "model_module": "@jupyter-widgets/controls",
          "model_name": "TextModel",
          "model_module_version": "1.5.0",
          "state": {
            "_dom_classes": [],
            "_model_module": "@jupyter-widgets/controls",
            "_model_module_version": "1.5.0",
            "_model_name": "TextModel",
            "_view_count": null,
            "_view_module": "@jupyter-widgets/controls",
            "_view_module_version": "1.5.0",
            "_view_name": "TextView",
            "continuous_update": true,
            "description": "Educación:",
            "description_tooltip": null,
            "disabled": false,
            "layout": "IPY_MODEL_fd760703762046a3995ca097bd8b5f2b",
            "placeholder": "​",
            "style": "IPY_MODEL_8d536275b24e416ea13848958f64a65e",
            "value": ""
          }
        },
        "fd760703762046a3995ca097bd8b5f2b": {
          "model_module": "@jupyter-widgets/base",
          "model_name": "LayoutModel",
          "model_module_version": "1.2.0",
          "state": {
            "_model_module": "@jupyter-widgets/base",
            "_model_module_version": "1.2.0",
            "_model_name": "LayoutModel",
            "_view_count": null,
            "_view_module": "@jupyter-widgets/base",
            "_view_module_version": "1.2.0",
            "_view_name": "LayoutView",
            "align_content": null,
            "align_items": null,
            "align_self": null,
            "border": null,
            "bottom": null,
            "display": null,
            "flex": null,
            "flex_flow": null,
            "grid_area": null,
            "grid_auto_columns": null,
            "grid_auto_flow": null,
            "grid_auto_rows": null,
            "grid_column": null,
            "grid_gap": null,
            "grid_row": null,
            "grid_template_areas": null,
            "grid_template_columns": null,
            "grid_template_rows": null,
            "height": null,
            "justify_content": null,
            "justify_items": null,
            "left": null,
            "margin": null,
            "max_height": null,
            "max_width": null,
            "min_height": null,
            "min_width": null,
            "object_fit": null,
            "object_position": null,
            "order": null,
            "overflow": null,
            "overflow_x": null,
            "overflow_y": null,
            "padding": null,
            "right": null,
            "top": null,
            "visibility": null,
            "width": null
          }
        },
        "8d536275b24e416ea13848958f64a65e": {
          "model_module": "@jupyter-widgets/controls",
          "model_name": "DescriptionStyleModel",
          "model_module_version": "1.5.0",
          "state": {
            "_model_module": "@jupyter-widgets/controls",
            "_model_module_version": "1.5.0",
            "_model_name": "DescriptionStyleModel",
            "_view_count": null,
            "_view_module": "@jupyter-widgets/base",
            "_view_module_version": "1.2.0",
            "_view_name": "StyleView",
            "description_width": ""
          }
        },
        "fe5ea80d442c4fe98b837af60f66f90b": {
          "model_module": "@jupyter-widgets/controls",
          "model_name": "TextModel",
          "model_module_version": "1.5.0",
          "state": {
            "_dom_classes": [],
            "_model_module": "@jupyter-widgets/controls",
            "_model_module_version": "1.5.0",
            "_model_name": "TextModel",
            "_view_count": null,
            "_view_module": "@jupyter-widgets/controls",
            "_view_module_version": "1.5.0",
            "_view_name": "TextView",
            "continuous_update": true,
            "description": "Estado civil:",
            "description_tooltip": null,
            "disabled": false,
            "layout": "IPY_MODEL_e636ce7b5feb4904bc77f62f6961afd6",
            "placeholder": "​",
            "style": "IPY_MODEL_c1a69a0cd14e41b997863ae00b0fbb4c",
            "value": ""
          }
        },
        "e636ce7b5feb4904bc77f62f6961afd6": {
          "model_module": "@jupyter-widgets/base",
          "model_name": "LayoutModel",
          "model_module_version": "1.2.0",
          "state": {
            "_model_module": "@jupyter-widgets/base",
            "_model_module_version": "1.2.0",
            "_model_name": "LayoutModel",
            "_view_count": null,
            "_view_module": "@jupyter-widgets/base",
            "_view_module_version": "1.2.0",
            "_view_name": "LayoutView",
            "align_content": null,
            "align_items": null,
            "align_self": null,
            "border": null,
            "bottom": null,
            "display": null,
            "flex": null,
            "flex_flow": null,
            "grid_area": null,
            "grid_auto_columns": null,
            "grid_auto_flow": null,
            "grid_auto_rows": null,
            "grid_column": null,
            "grid_gap": null,
            "grid_row": null,
            "grid_template_areas": null,
            "grid_template_columns": null,
            "grid_template_rows": null,
            "height": null,
            "justify_content": null,
            "justify_items": null,
            "left": null,
            "margin": null,
            "max_height": null,
            "max_width": null,
            "min_height": null,
            "min_width": null,
            "object_fit": null,
            "object_position": null,
            "order": null,
            "overflow": null,
            "overflow_x": null,
            "overflow_y": null,
            "padding": null,
            "right": null,
            "top": null,
            "visibility": null,
            "width": null
          }
        },
        "c1a69a0cd14e41b997863ae00b0fbb4c": {
          "model_module": "@jupyter-widgets/controls",
          "model_name": "DescriptionStyleModel",
          "model_module_version": "1.5.0",
          "state": {
            "_model_module": "@jupyter-widgets/controls",
            "_model_module_version": "1.5.0",
            "_model_name": "DescriptionStyleModel",
            "_view_count": null,
            "_view_module": "@jupyter-widgets/base",
            "_view_module_version": "1.2.0",
            "_view_name": "StyleView",
            "description_width": ""
          }
        },
        "99581e7c794041dd9a904871795ba904": {
          "model_module": "@jupyter-widgets/controls",
          "model_name": "FloatTextModel",
          "model_module_version": "1.5.0",
          "state": {
            "_dom_classes": [],
            "_model_module": "@jupyter-widgets/controls",
            "_model_module_version": "1.5.0",
            "_model_name": "FloatTextModel",
            "_view_count": null,
            "_view_module": "@jupyter-widgets/controls",
            "_view_module_version": "1.5.0",
            "_view_name": "FloatTextView",
            "continuous_update": false,
            "description": "Ingresos:",
            "description_tooltip": null,
            "disabled": false,
            "layout": "IPY_MODEL_8e7f5406d69b4519af4b73a7322f8c57",
            "step": null,
            "style": "IPY_MODEL_5e963052820d4df195b64be4722a4f48",
            "value": 0
          }
        },
        "8e7f5406d69b4519af4b73a7322f8c57": {
          "model_module": "@jupyter-widgets/base",
          "model_name": "LayoutModel",
          "model_module_version": "1.2.0",
          "state": {
            "_model_module": "@jupyter-widgets/base",
            "_model_module_version": "1.2.0",
            "_model_name": "LayoutModel",
            "_view_count": null,
            "_view_module": "@jupyter-widgets/base",
            "_view_module_version": "1.2.0",
            "_view_name": "LayoutView",
            "align_content": null,
            "align_items": null,
            "align_self": null,
            "border": null,
            "bottom": null,
            "display": null,
            "flex": null,
            "flex_flow": null,
            "grid_area": null,
            "grid_auto_columns": null,
            "grid_auto_flow": null,
            "grid_auto_rows": null,
            "grid_column": null,
            "grid_gap": null,
            "grid_row": null,
            "grid_template_areas": null,
            "grid_template_columns": null,
            "grid_template_rows": null,
            "height": null,
            "justify_content": null,
            "justify_items": null,
            "left": null,
            "margin": null,
            "max_height": null,
            "max_width": null,
            "min_height": null,
            "min_width": null,
            "object_fit": null,
            "object_position": null,
            "order": null,
            "overflow": null,
            "overflow_x": null,
            "overflow_y": null,
            "padding": null,
            "right": null,
            "top": null,
            "visibility": null,
            "width": null
          }
        },
        "5e963052820d4df195b64be4722a4f48": {
          "model_module": "@jupyter-widgets/controls",
          "model_name": "DescriptionStyleModel",
          "model_module_version": "1.5.0",
          "state": {
            "_model_module": "@jupyter-widgets/controls",
            "_model_module_version": "1.5.0",
            "_model_name": "DescriptionStyleModel",
            "_view_count": null,
            "_view_module": "@jupyter-widgets/base",
            "_view_module_version": "1.2.0",
            "_view_name": "StyleView",
            "description_width": ""
          }
        },
        "4786b3e2e63f44d1a7232d7ddc917c5c": {
          "model_module": "@jupyter-widgets/controls",
          "model_name": "IntTextModel",
          "model_module_version": "1.5.0",
          "state": {
            "_dom_classes": [],
            "_model_module": "@jupyter-widgets/controls",
            "_model_module_version": "1.5.0",
            "_model_name": "IntTextModel",
            "_view_count": null,
            "_view_module": "@jupyter-widgets/controls",
            "_view_module_version": "1.5.0",
            "_view_name": "IntTextView",
            "continuous_update": false,
            "description": "Hogar con niños (1 es si y 0 es no):",
            "description_tooltip": null,
            "disabled": false,
            "layout": "IPY_MODEL_c3c73f09694741acb4773f03b68ddb2b",
            "step": 1,
            "style": "IPY_MODEL_921fcd43c914496f81bbb089a72c5bf1",
            "value": 0
          }
        },
        "c3c73f09694741acb4773f03b68ddb2b": {
          "model_module": "@jupyter-widgets/base",
          "model_name": "LayoutModel",
          "model_module_version": "1.2.0",
          "state": {
            "_model_module": "@jupyter-widgets/base",
            "_model_module_version": "1.2.0",
            "_model_name": "LayoutModel",
            "_view_count": null,
            "_view_module": "@jupyter-widgets/base",
            "_view_module_version": "1.2.0",
            "_view_name": "LayoutView",
            "align_content": null,
            "align_items": null,
            "align_self": null,
            "border": null,
            "bottom": null,
            "display": null,
            "flex": null,
            "flex_flow": null,
            "grid_area": null,
            "grid_auto_columns": null,
            "grid_auto_flow": null,
            "grid_auto_rows": null,
            "grid_column": null,
            "grid_gap": null,
            "grid_row": null,
            "grid_template_areas": null,
            "grid_template_columns": null,
            "grid_template_rows": null,
            "height": null,
            "justify_content": null,
            "justify_items": null,
            "left": null,
            "margin": null,
            "max_height": null,
            "max_width": null,
            "min_height": null,
            "min_width": null,
            "object_fit": null,
            "object_position": null,
            "order": null,
            "overflow": null,
            "overflow_x": null,
            "overflow_y": null,
            "padding": null,
            "right": null,
            "top": null,
            "visibility": null,
            "width": null
          }
        },
        "921fcd43c914496f81bbb089a72c5bf1": {
          "model_module": "@jupyter-widgets/controls",
          "model_name": "DescriptionStyleModel",
          "model_module_version": "1.5.0",
          "state": {
            "_model_module": "@jupyter-widgets/controls",
            "_model_module_version": "1.5.0",
            "_model_name": "DescriptionStyleModel",
            "_view_count": null,
            "_view_module": "@jupyter-widgets/base",
            "_view_module_version": "1.2.0",
            "_view_name": "StyleView",
            "description_width": ""
          }
        },
        "d9aec6aabf1744d4a772354de15df691": {
          "model_module": "@jupyter-widgets/controls",
          "model_name": "IntTextModel",
          "model_module_version": "1.5.0",
          "state": {
            "_dom_classes": [],
            "_model_module": "@jupyter-widgets/controls",
            "_model_module_version": "1.5.0",
            "_model_name": "IntTextModel",
            "_view_count": null,
            "_view_module": "@jupyter-widgets/controls",
            "_view_module_version": "1.5.0",
            "_view_name": "IntTextView",
            "continuous_update": false,
            "description": "Hogar con adolescentes (1 es si y 0 es no):",
            "description_tooltip": null,
            "disabled": false,
            "layout": "IPY_MODEL_0451f26163a94845b7d5e4fee3150025",
            "step": 1,
            "style": "IPY_MODEL_9a29726ace194ce9bfeaa00f30a4d01b",
            "value": 0
          }
        },
        "0451f26163a94845b7d5e4fee3150025": {
          "model_module": "@jupyter-widgets/base",
          "model_name": "LayoutModel",
          "model_module_version": "1.2.0",
          "state": {
            "_model_module": "@jupyter-widgets/base",
            "_model_module_version": "1.2.0",
            "_model_name": "LayoutModel",
            "_view_count": null,
            "_view_module": "@jupyter-widgets/base",
            "_view_module_version": "1.2.0",
            "_view_name": "LayoutView",
            "align_content": null,
            "align_items": null,
            "align_self": null,
            "border": null,
            "bottom": null,
            "display": null,
            "flex": null,
            "flex_flow": null,
            "grid_area": null,
            "grid_auto_columns": null,
            "grid_auto_flow": null,
            "grid_auto_rows": null,
            "grid_column": null,
            "grid_gap": null,
            "grid_row": null,
            "grid_template_areas": null,
            "grid_template_columns": null,
            "grid_template_rows": null,
            "height": null,
            "justify_content": null,
            "justify_items": null,
            "left": null,
            "margin": null,
            "max_height": null,
            "max_width": null,
            "min_height": null,
            "min_width": null,
            "object_fit": null,
            "object_position": null,
            "order": null,
            "overflow": null,
            "overflow_x": null,
            "overflow_y": null,
            "padding": null,
            "right": null,
            "top": null,
            "visibility": null,
            "width": null
          }
        },
        "9a29726ace194ce9bfeaa00f30a4d01b": {
          "model_module": "@jupyter-widgets/controls",
          "model_name": "DescriptionStyleModel",
          "model_module_version": "1.5.0",
          "state": {
            "_model_module": "@jupyter-widgets/controls",
            "_model_module_version": "1.5.0",
            "_model_name": "DescriptionStyleModel",
            "_view_count": null,
            "_view_module": "@jupyter-widgets/base",
            "_view_module_version": "1.2.0",
            "_view_name": "StyleView",
            "description_width": ""
          }
        },
        "5657740434e448a8ac6f5ef6083728d8": {
          "model_module": "@jupyter-widgets/controls",
          "model_name": "ButtonModel",
          "model_module_version": "1.5.0",
          "state": {
            "_dom_classes": [],
            "_model_module": "@jupyter-widgets/controls",
            "_model_module_version": "1.5.0",
            "_model_name": "ButtonModel",
            "_view_count": null,
            "_view_module": "@jupyter-widgets/controls",
            "_view_module_version": "1.5.0",
            "_view_name": "ButtonView",
            "button_style": "",
            "description": "Predecir",
            "disabled": false,
            "icon": "",
            "layout": "IPY_MODEL_9265420c336a46d59a4065cb9d6455de",
            "style": "IPY_MODEL_658922483518400fbd071ee75fb9f71a",
            "tooltip": ""
          }
        },
        "9265420c336a46d59a4065cb9d6455de": {
          "model_module": "@jupyter-widgets/base",
          "model_name": "LayoutModel",
          "model_module_version": "1.2.0",
          "state": {
            "_model_module": "@jupyter-widgets/base",
            "_model_module_version": "1.2.0",
            "_model_name": "LayoutModel",
            "_view_count": null,
            "_view_module": "@jupyter-widgets/base",
            "_view_module_version": "1.2.0",
            "_view_name": "LayoutView",
            "align_content": null,
            "align_items": null,
            "align_self": null,
            "border": null,
            "bottom": null,
            "display": null,
            "flex": null,
            "flex_flow": null,
            "grid_area": null,
            "grid_auto_columns": null,
            "grid_auto_flow": null,
            "grid_auto_rows": null,
            "grid_column": null,
            "grid_gap": null,
            "grid_row": null,
            "grid_template_areas": null,
            "grid_template_columns": null,
            "grid_template_rows": null,
            "height": null,
            "justify_content": null,
            "justify_items": null,
            "left": null,
            "margin": null,
            "max_height": null,
            "max_width": null,
            "min_height": null,
            "min_width": null,
            "object_fit": null,
            "object_position": null,
            "order": null,
            "overflow": null,
            "overflow_x": null,
            "overflow_y": null,
            "padding": null,
            "right": null,
            "top": null,
            "visibility": null,
            "width": null
          }
        },
        "658922483518400fbd071ee75fb9f71a": {
          "model_module": "@jupyter-widgets/controls",
          "model_name": "ButtonStyleModel",
          "model_module_version": "1.5.0",
          "state": {
            "_model_module": "@jupyter-widgets/controls",
            "_model_module_version": "1.5.0",
            "_model_name": "ButtonStyleModel",
            "_view_count": null,
            "_view_module": "@jupyter-widgets/base",
            "_view_module_version": "1.2.0",
            "_view_name": "StyleView",
            "button_color": null,
            "font_weight": ""
          }
        }
      }
    }
  },
  "cells": [
    {
      "cell_type": "markdown",
      "metadata": {
        "id": "view-in-github",
        "colab_type": "text"
      },
      "source": [
        "<a href=\"https://colab.research.google.com/github/LesG016/Portafolio-caso-2/blob/main/Clientes_supermercado.ipynb\" target=\"_parent\"><img src=\"https://colab.research.google.com/assets/colab-badge.svg\" alt=\"Open In Colab\"/></a>"
      ]
    },
    {
      "cell_type": "code",
      "execution_count": 2,
      "metadata": {
        "id": "oK85EC4Hs2h5"
      },
      "outputs": [],
      "source": [
        "import pandas as pd\n",
        "# biblioteca de análisis de datos, muestra estructuras de datos y herramientas para trabajar datos tabulares.\n",
        "import numpy as np\n",
        "#Biblioteca para cálculos numéricos en Python.\n",
        "from sklearn.model_selection import train_test_split\n",
        "#Permite dividir datos en conjuntos de entrenamiento y prueba.\n",
        "from sklearn.ensemble import RandomForestRegressor\n",
        "#Algoritmo de aprendizaje automático basado en árboles para el modelo de regresión\n",
        "from sklearn.preprocessing import LabelEncoder\n",
        "#Ayuda a codificar etiquetas categóricas en valores numéricos.\n",
        "from sklearn.metrics import mean_squared_error, mean_absolute_error, r2_score\n",
        "#Métricas que utilizaremos para evaluar el rendimiento del modelo.\n",
        "import ipywidgets as widgets\n",
        "#Biblioteca para crear widgets interactivos en Jupyter Notebook.\n",
        "from IPython.display import display\n",
        "#Permite mostrar los widgets en Jupyter Notebook.\n",
        "from google.colab import files\n",
        "#Para subir archivos desde nuestro sistema local a colab\n"
      ]
    },
    {
      "cell_type": "code",
      "source": [
        "# Subir archivo\n",
        "uploaded = files.upload()\n",
        "\n",
        "# Cuando el archivo ha side subido, establecerlo como directorio actual\n",
        "ruta_archivo = 'clientes.xlsx'\n"
      ],
      "metadata": {
        "colab": {
          "base_uri": "https://localhost:8080/",
          "height": 73
        },
        "id": "jFRSJ-x1tBvM",
        "outputId": "fce3d8dd-b379-4a64-85a4-8129f06c7488"
      },
      "execution_count": 3,
      "outputs": [
        {
          "output_type": "display_data",
          "data": {
            "text/plain": [
              "<IPython.core.display.HTML object>"
            ],
            "text/html": [
              "\n",
              "     <input type=\"file\" id=\"files-a202c970-fdae-4e10-85fc-5012a3f94245\" name=\"files[]\" multiple disabled\n",
              "        style=\"border:none\" />\n",
              "     <output id=\"result-a202c970-fdae-4e10-85fc-5012a3f94245\">\n",
              "      Upload widget is only available when the cell has been executed in the\n",
              "      current browser session. Please rerun this cell to enable.\n",
              "      </output>\n",
              "      <script>// Copyright 2017 Google LLC\n",
              "//\n",
              "// Licensed under the Apache License, Version 2.0 (the \"License\");\n",
              "// you may not use this file except in compliance with the License.\n",
              "// You may obtain a copy of the License at\n",
              "//\n",
              "//      http://www.apache.org/licenses/LICENSE-2.0\n",
              "//\n",
              "// Unless required by applicable law or agreed to in writing, software\n",
              "// distributed under the License is distributed on an \"AS IS\" BASIS,\n",
              "// WITHOUT WARRANTIES OR CONDITIONS OF ANY KIND, either express or implied.\n",
              "// See the License for the specific language governing permissions and\n",
              "// limitations under the License.\n",
              "\n",
              "/**\n",
              " * @fileoverview Helpers for google.colab Python module.\n",
              " */\n",
              "(function(scope) {\n",
              "function span(text, styleAttributes = {}) {\n",
              "  const element = document.createElement('span');\n",
              "  element.textContent = text;\n",
              "  for (const key of Object.keys(styleAttributes)) {\n",
              "    element.style[key] = styleAttributes[key];\n",
              "  }\n",
              "  return element;\n",
              "}\n",
              "\n",
              "// Max number of bytes which will be uploaded at a time.\n",
              "const MAX_PAYLOAD_SIZE = 100 * 1024;\n",
              "\n",
              "function _uploadFiles(inputId, outputId) {\n",
              "  const steps = uploadFilesStep(inputId, outputId);\n",
              "  const outputElement = document.getElementById(outputId);\n",
              "  // Cache steps on the outputElement to make it available for the next call\n",
              "  // to uploadFilesContinue from Python.\n",
              "  outputElement.steps = steps;\n",
              "\n",
              "  return _uploadFilesContinue(outputId);\n",
              "}\n",
              "\n",
              "// This is roughly an async generator (not supported in the browser yet),\n",
              "// where there are multiple asynchronous steps and the Python side is going\n",
              "// to poll for completion of each step.\n",
              "// This uses a Promise to block the python side on completion of each step,\n",
              "// then passes the result of the previous step as the input to the next step.\n",
              "function _uploadFilesContinue(outputId) {\n",
              "  const outputElement = document.getElementById(outputId);\n",
              "  const steps = outputElement.steps;\n",
              "\n",
              "  const next = steps.next(outputElement.lastPromiseValue);\n",
              "  return Promise.resolve(next.value.promise).then((value) => {\n",
              "    // Cache the last promise value to make it available to the next\n",
              "    // step of the generator.\n",
              "    outputElement.lastPromiseValue = value;\n",
              "    return next.value.response;\n",
              "  });\n",
              "}\n",
              "\n",
              "/**\n",
              " * Generator function which is called between each async step of the upload\n",
              " * process.\n",
              " * @param {string} inputId Element ID of the input file picker element.\n",
              " * @param {string} outputId Element ID of the output display.\n",
              " * @return {!Iterable<!Object>} Iterable of next steps.\n",
              " */\n",
              "function* uploadFilesStep(inputId, outputId) {\n",
              "  const inputElement = document.getElementById(inputId);\n",
              "  inputElement.disabled = false;\n",
              "\n",
              "  const outputElement = document.getElementById(outputId);\n",
              "  outputElement.innerHTML = '';\n",
              "\n",
              "  const pickedPromise = new Promise((resolve) => {\n",
              "    inputElement.addEventListener('change', (e) => {\n",
              "      resolve(e.target.files);\n",
              "    });\n",
              "  });\n",
              "\n",
              "  const cancel = document.createElement('button');\n",
              "  inputElement.parentElement.appendChild(cancel);\n",
              "  cancel.textContent = 'Cancel upload';\n",
              "  const cancelPromise = new Promise((resolve) => {\n",
              "    cancel.onclick = () => {\n",
              "      resolve(null);\n",
              "    };\n",
              "  });\n",
              "\n",
              "  // Wait for the user to pick the files.\n",
              "  const files = yield {\n",
              "    promise: Promise.race([pickedPromise, cancelPromise]),\n",
              "    response: {\n",
              "      action: 'starting',\n",
              "    }\n",
              "  };\n",
              "\n",
              "  cancel.remove();\n",
              "\n",
              "  // Disable the input element since further picks are not allowed.\n",
              "  inputElement.disabled = true;\n",
              "\n",
              "  if (!files) {\n",
              "    return {\n",
              "      response: {\n",
              "        action: 'complete',\n",
              "      }\n",
              "    };\n",
              "  }\n",
              "\n",
              "  for (const file of files) {\n",
              "    const li = document.createElement('li');\n",
              "    li.append(span(file.name, {fontWeight: 'bold'}));\n",
              "    li.append(span(\n",
              "        `(${file.type || 'n/a'}) - ${file.size} bytes, ` +\n",
              "        `last modified: ${\n",
              "            file.lastModifiedDate ? file.lastModifiedDate.toLocaleDateString() :\n",
              "                                    'n/a'} - `));\n",
              "    const percent = span('0% done');\n",
              "    li.appendChild(percent);\n",
              "\n",
              "    outputElement.appendChild(li);\n",
              "\n",
              "    const fileDataPromise = new Promise((resolve) => {\n",
              "      const reader = new FileReader();\n",
              "      reader.onload = (e) => {\n",
              "        resolve(e.target.result);\n",
              "      };\n",
              "      reader.readAsArrayBuffer(file);\n",
              "    });\n",
              "    // Wait for the data to be ready.\n",
              "    let fileData = yield {\n",
              "      promise: fileDataPromise,\n",
              "      response: {\n",
              "        action: 'continue',\n",
              "      }\n",
              "    };\n",
              "\n",
              "    // Use a chunked sending to avoid message size limits. See b/62115660.\n",
              "    let position = 0;\n",
              "    do {\n",
              "      const length = Math.min(fileData.byteLength - position, MAX_PAYLOAD_SIZE);\n",
              "      const chunk = new Uint8Array(fileData, position, length);\n",
              "      position += length;\n",
              "\n",
              "      const base64 = btoa(String.fromCharCode.apply(null, chunk));\n",
              "      yield {\n",
              "        response: {\n",
              "          action: 'append',\n",
              "          file: file.name,\n",
              "          data: base64,\n",
              "        },\n",
              "      };\n",
              "\n",
              "      let percentDone = fileData.byteLength === 0 ?\n",
              "          100 :\n",
              "          Math.round((position / fileData.byteLength) * 100);\n",
              "      percent.textContent = `${percentDone}% done`;\n",
              "\n",
              "    } while (position < fileData.byteLength);\n",
              "  }\n",
              "\n",
              "  // All done.\n",
              "  yield {\n",
              "    response: {\n",
              "      action: 'complete',\n",
              "    }\n",
              "  };\n",
              "}\n",
              "\n",
              "scope.google = scope.google || {};\n",
              "scope.google.colab = scope.google.colab || {};\n",
              "scope.google.colab._files = {\n",
              "  _uploadFiles,\n",
              "  _uploadFilesContinue,\n",
              "};\n",
              "})(self);\n",
              "</script> "
            ]
          },
          "metadata": {}
        },
        {
          "output_type": "stream",
          "name": "stdout",
          "text": [
            "Saving clientes.xlsx to clientes.xlsx\n"
          ]
        }
      ]
    },
    {
      "cell_type": "code",
      "source": [
        "# Leer archivo de Excel en un DataFrame\n",
        "data = pd.read_excel(ruta_archivo)\n",
        "\n",
        "# Exploración inicial de los datos\n",
        "print(data.head())\n",
        "print(data.info())\n",
        "\n",
        "# Eliminar filas con valores faltantes\n",
        "data_cleaned = data.dropna()\n",
        "\n",
        "# Separar características (features) y las variables objetivo (targets)\n",
        "X = data_cleaned[['Year_Birth', 'Education', 'Marital_Status', 'Income', 'Kidhome', 'Teenhome']]\n",
        "y = data_cleaned[['MntWines', 'MntFruits', 'MntMeatProducts', 'MntFishProducts', 'MntSweetProducts', 'MntGoldProds',\n",
        "                  'NumDealsPurchases', 'NumWebPurchases', 'NumCatalogPurchases', 'NumStorePurchases', 'NumWebVisitsMonth', 'Z_CostContact']]\n",
        "\n",
        "# Codificar las columnas categóricas\n",
        "label_encoders = {}\n",
        "for column in ['Education', 'Marital_Status']:\n",
        "    le = LabelEncoder()\n",
        "    X[column] = le.fit_transform(X[column])\n",
        "    label_encoders[column] = le\n",
        "\n",
        "# Dividir los datos en conjuntos de entrenamiento y prueba\n",
        "X_train, X_test, y_train, y_test = train_test_split(X, y, test_size=0.2, random_state=42)\n"
      ],
      "metadata": {
        "colab": {
          "base_uri": "https://localhost:8080/"
        },
        "id": "6drJBr5YtMzK",
        "outputId": "79e258cf-feb6-43a2-e917-700beb0e1ee1"
      },
      "execution_count": 4,
      "outputs": [
        {
          "output_type": "stream",
          "name": "stdout",
          "text": [
            "     ID  Year_Birth   Education Marital_Status   Income  Kidhome  Teenhome  \\\n",
            "0  5524        1957  Graduation         Single  58138.0        0         0   \n",
            "1  2174        1954  Graduation         Single  46344.0        1         1   \n",
            "2  4141        1965  Graduation       Together  71613.0        0         0   \n",
            "3  6182        1984  Graduation       Together  26646.0        1         0   \n",
            "4  5324        1981         PhD        Married  58293.0        1         0   \n",
            "\n",
            "  Dt_Customer  Recency  MntWines  ...  MntMeatProducts  MntFishProducts  \\\n",
            "0  2012-09-04       58       635  ...              546              172   \n",
            "1  2014-03-08       38        11  ...                6                2   \n",
            "2  2013-08-21       26       426  ...              127              111   \n",
            "3  2014-02-10       26        11  ...               20               10   \n",
            "4  2014-01-19       94       173  ...              118               46   \n",
            "\n",
            "   MntSweetProducts  MntGoldProds  NumDealsPurchases  NumWebPurchases  \\\n",
            "0                88            88                  3                8   \n",
            "1                 1             6                  2                1   \n",
            "2                21            42                  1                8   \n",
            "3                 3             5                  2                2   \n",
            "4                27            15                  5                5   \n",
            "\n",
            "   NumCatalogPurchases  NumStorePurchases  NumWebVisitsMonth  Z_CostContact  \n",
            "0                   10                  4                  7              3  \n",
            "1                    1                  2                  5              3  \n",
            "2                    2                 10                  4              3  \n",
            "3                    0                  4                  6              3  \n",
            "4                    3                  6                  5              3  \n",
            "\n",
            "[5 rows x 21 columns]\n",
            "<class 'pandas.core.frame.DataFrame'>\n",
            "RangeIndex: 2240 entries, 0 to 2239\n",
            "Data columns (total 21 columns):\n",
            " #   Column               Non-Null Count  Dtype         \n",
            "---  ------               --------------  -----         \n",
            " 0   ID                   2240 non-null   int64         \n",
            " 1   Year_Birth           2240 non-null   int64         \n",
            " 2   Education            2240 non-null   object        \n",
            " 3   Marital_Status       2240 non-null   object        \n",
            " 4   Income               2216 non-null   float64       \n",
            " 5   Kidhome              2240 non-null   int64         \n",
            " 6   Teenhome             2240 non-null   int64         \n",
            " 7   Dt_Customer          2240 non-null   datetime64[ns]\n",
            " 8   Recency              2240 non-null   int64         \n",
            " 9   MntWines             2240 non-null   int64         \n",
            " 10  MntFruits            2240 non-null   int64         \n",
            " 11  MntMeatProducts      2240 non-null   int64         \n",
            " 12  MntFishProducts      2240 non-null   int64         \n",
            " 13  MntSweetProducts     2240 non-null   int64         \n",
            " 14  MntGoldProds         2240 non-null   int64         \n",
            " 15  NumDealsPurchases    2240 non-null   int64         \n",
            " 16  NumWebPurchases      2240 non-null   int64         \n",
            " 17  NumCatalogPurchases  2240 non-null   int64         \n",
            " 18  NumStorePurchases    2240 non-null   int64         \n",
            " 19  NumWebVisitsMonth    2240 non-null   int64         \n",
            " 20  Z_CostContact        2240 non-null   int64         \n",
            "dtypes: datetime64[ns](1), float64(1), int64(17), object(2)\n",
            "memory usage: 367.6+ KB\n",
            "None\n"
          ]
        },
        {
          "output_type": "stream",
          "name": "stderr",
          "text": [
            "<ipython-input-4-08e7c3efd00a>:20: SettingWithCopyWarning: \n",
            "A value is trying to be set on a copy of a slice from a DataFrame.\n",
            "Try using .loc[row_indexer,col_indexer] = value instead\n",
            "\n",
            "See the caveats in the documentation: https://pandas.pydata.org/pandas-docs/stable/user_guide/indexing.html#returning-a-view-versus-a-copy\n",
            "  X[column] = le.fit_transform(X[column])\n",
            "<ipython-input-4-08e7c3efd00a>:20: SettingWithCopyWarning: \n",
            "A value is trying to be set on a copy of a slice from a DataFrame.\n",
            "Try using .loc[row_indexer,col_indexer] = value instead\n",
            "\n",
            "See the caveats in the documentation: https://pandas.pydata.org/pandas-docs/stable/user_guide/indexing.html#returning-a-view-versus-a-copy\n",
            "  X[column] = le.fit_transform(X[column])\n"
          ]
        }
      ]
    },
    {
      "cell_type": "code",
      "source": [
        "# Entrenar el modelo\n",
        "model = RandomForestRegressor()\n",
        "model.fit(X_train, y_train)\n"
      ],
      "metadata": {
        "colab": {
          "base_uri": "https://localhost:8080/",
          "height": 75
        },
        "id": "vnKBD8OktRf8",
        "outputId": "51f7d416-1bf8-47d1-9f53-3c54b18b11e5"
      },
      "execution_count": 5,
      "outputs": [
        {
          "output_type": "execute_result",
          "data": {
            "text/plain": [
              "RandomForestRegressor()"
            ],
            "text/html": [
              "<style>#sk-container-id-1 {color: black;background-color: white;}#sk-container-id-1 pre{padding: 0;}#sk-container-id-1 div.sk-toggleable {background-color: white;}#sk-container-id-1 label.sk-toggleable__label {cursor: pointer;display: block;width: 100%;margin-bottom: 0;padding: 0.3em;box-sizing: border-box;text-align: center;}#sk-container-id-1 label.sk-toggleable__label-arrow:before {content: \"▸\";float: left;margin-right: 0.25em;color: #696969;}#sk-container-id-1 label.sk-toggleable__label-arrow:hover:before {color: black;}#sk-container-id-1 div.sk-estimator:hover label.sk-toggleable__label-arrow:before {color: black;}#sk-container-id-1 div.sk-toggleable__content {max-height: 0;max-width: 0;overflow: hidden;text-align: left;background-color: #f0f8ff;}#sk-container-id-1 div.sk-toggleable__content pre {margin: 0.2em;color: black;border-radius: 0.25em;background-color: #f0f8ff;}#sk-container-id-1 input.sk-toggleable__control:checked~div.sk-toggleable__content {max-height: 200px;max-width: 100%;overflow: auto;}#sk-container-id-1 input.sk-toggleable__control:checked~label.sk-toggleable__label-arrow:before {content: \"▾\";}#sk-container-id-1 div.sk-estimator input.sk-toggleable__control:checked~label.sk-toggleable__label {background-color: #d4ebff;}#sk-container-id-1 div.sk-label input.sk-toggleable__control:checked~label.sk-toggleable__label {background-color: #d4ebff;}#sk-container-id-1 input.sk-hidden--visually {border: 0;clip: rect(1px 1px 1px 1px);clip: rect(1px, 1px, 1px, 1px);height: 1px;margin: -1px;overflow: hidden;padding: 0;position: absolute;width: 1px;}#sk-container-id-1 div.sk-estimator {font-family: monospace;background-color: #f0f8ff;border: 1px dotted black;border-radius: 0.25em;box-sizing: border-box;margin-bottom: 0.5em;}#sk-container-id-1 div.sk-estimator:hover {background-color: #d4ebff;}#sk-container-id-1 div.sk-parallel-item::after {content: \"\";width: 100%;border-bottom: 1px solid gray;flex-grow: 1;}#sk-container-id-1 div.sk-label:hover label.sk-toggleable__label {background-color: #d4ebff;}#sk-container-id-1 div.sk-serial::before {content: \"\";position: absolute;border-left: 1px solid gray;box-sizing: border-box;top: 0;bottom: 0;left: 50%;z-index: 0;}#sk-container-id-1 div.sk-serial {display: flex;flex-direction: column;align-items: center;background-color: white;padding-right: 0.2em;padding-left: 0.2em;position: relative;}#sk-container-id-1 div.sk-item {position: relative;z-index: 1;}#sk-container-id-1 div.sk-parallel {display: flex;align-items: stretch;justify-content: center;background-color: white;position: relative;}#sk-container-id-1 div.sk-item::before, #sk-container-id-1 div.sk-parallel-item::before {content: \"\";position: absolute;border-left: 1px solid gray;box-sizing: border-box;top: 0;bottom: 0;left: 50%;z-index: -1;}#sk-container-id-1 div.sk-parallel-item {display: flex;flex-direction: column;z-index: 1;position: relative;background-color: white;}#sk-container-id-1 div.sk-parallel-item:first-child::after {align-self: flex-end;width: 50%;}#sk-container-id-1 div.sk-parallel-item:last-child::after {align-self: flex-start;width: 50%;}#sk-container-id-1 div.sk-parallel-item:only-child::after {width: 0;}#sk-container-id-1 div.sk-dashed-wrapped {border: 1px dashed gray;margin: 0 0.4em 0.5em 0.4em;box-sizing: border-box;padding-bottom: 0.4em;background-color: white;}#sk-container-id-1 div.sk-label label {font-family: monospace;font-weight: bold;display: inline-block;line-height: 1.2em;}#sk-container-id-1 div.sk-label-container {text-align: center;}#sk-container-id-1 div.sk-container {/* jupyter's `normalize.less` sets `[hidden] { display: none; }` but bootstrap.min.css set `[hidden] { display: none !important; }` so we also need the `!important` here to be able to override the default hidden behavior on the sphinx rendered scikit-learn.org. See: https://github.com/scikit-learn/scikit-learn/issues/21755 */display: inline-block !important;position: relative;}#sk-container-id-1 div.sk-text-repr-fallback {display: none;}</style><div id=\"sk-container-id-1\" class=\"sk-top-container\"><div class=\"sk-text-repr-fallback\"><pre>RandomForestRegressor()</pre><b>In a Jupyter environment, please rerun this cell to show the HTML representation or trust the notebook. <br />On GitHub, the HTML representation is unable to render, please try loading this page with nbviewer.org.</b></div><div class=\"sk-container\" hidden><div class=\"sk-item\"><div class=\"sk-estimator sk-toggleable\"><input class=\"sk-toggleable__control sk-hidden--visually\" id=\"sk-estimator-id-1\" type=\"checkbox\" checked><label for=\"sk-estimator-id-1\" class=\"sk-toggleable__label sk-toggleable__label-arrow\">RandomForestRegressor</label><div class=\"sk-toggleable__content\"><pre>RandomForestRegressor()</pre></div></div></div></div></div>"
            ]
          },
          "metadata": {},
          "execution_count": 5
        }
      ]
    },
    {
      "cell_type": "code",
      "source": [
        "# Función para predecir las variables objetivo basado en nuevos datos\n",
        "def predecir_variables(year_birth, education, marital_status, income, kidhome, teenhome):\n",
        "    # Convertir las características categóricas a numéricas\n",
        "    education_encoded = label_encoders['Education'].transform([education])[0]\n",
        "    marital_status_encoded = label_encoders['Marital_Status'].transform([marital_status])[0]\n",
        "\n",
        "    # Crear el DataFrame con los nuevos datos\n",
        "    nuevo_dato = pd.DataFrame({\n",
        "        'Year_Birth': [year_birth],\n",
        "        'Education': [education_encoded],\n",
        "        'Marital_Status': [marital_status_encoded],\n",
        "        'Income': [income],\n",
        "        'Kidhome': [kidhome],\n",
        "        'Teenhome': [teenhome]\n",
        "    })\n",
        "\n",
        "    # Hacer la predicción\n",
        "    predicciones = model.predict(nuevo_dato)\n",
        "\n",
        "    return predicciones[0]\n"
      ],
      "metadata": {
        "id": "lDRE7OCbtZbZ"
      },
      "execution_count": 6,
      "outputs": []
    },
    {
      "cell_type": "code",
      "source": [
        "# Crear widgets para la entrada de datos\n",
        "year_birth_widget = widgets.IntText(description='Año nacimiento:')\n",
        "education_widget = widgets.Text(description='Educación:')\n",
        "marital_status_widget = widgets.Text(description='Estado civil:')\n",
        "income_widget = widgets.FloatText(description='Ingresos:')\n",
        "kidhome_widget = widgets.IntText(description='Hogar con niños (1 es si y 0 es no):')\n",
        "teenhome_widget = widgets.IntText(description='Hogar con adolescentes (1 es si y 0 es no):')\n",
        "button = widgets.Button(description='Predecir')\n",
        "\n",
        "# Definir los nombres de las columnas objetivo\n",
        "target_columns = [\n",
        "    'MntWines', 'MntFruits', 'MntMeatProducts', 'MntFishProducts',\n",
        "    'MntSweetProducts', 'MntGoldProds', 'NumDealsPurchases', 'NumWebPurchases',\n",
        "    'NumCatalogPurchases', 'NumStorePurchases', 'NumWebVisitsMonth', 'Z_CostContact'\n",
        "]\n",
        "\n",
        "# Función que será llamada al hacer clic en el botón\n",
        "def on_button_clicked(b):\n",
        "    year_birth = year_birth_widget.value\n",
        "    education = education_widget.value\n",
        "    marital_status = marital_status_widget.value\n",
        "    income = income_widget.value\n",
        "    kidhome = kidhome_widget.value\n",
        "    teenhome = teenhome_widget.value\n",
        "\n",
        "    # Predecir las variables objetivo\n",
        "    predicciones = predecir_variables(year_birth, education, marital_status, income, kidhome, teenhome)\n",
        "\n",
        "    # Mostrar el resultado con etiquetas\n",
        "    resultados = {target_columns[i]: predicciones[i] for i in range(len(target_columns))}\n",
        "    print('Predicciones:')\n",
        "    for columna, valor in resultados.items():\n",
        "        print(f'{columna}: {valor}')\n",
        "\n",
        "# Asignar la función al botón\n",
        "button.on_click(on_button_clicked)\n",
        "\n",
        "# Mostrar widgets\n",
        "display(year_birth_widget, education_widget, marital_status_widget, income_widget, kidhome_widget, teenhome_widget, button)\n",
        "\n"
      ],
      "metadata": {
        "colab": {
          "base_uri": "https://localhost:8080/",
          "height": 231,
          "referenced_widgets": [
            "476f1bd3e05e461f9b4aedb7d13992cc",
            "dae5990cd2f14f909eea9584b21234b4",
            "de32fe78fef24ccd8c03ce5f039d3cc1",
            "d9f5b40495934e10b75d685d8d99ba0c",
            "fd760703762046a3995ca097bd8b5f2b",
            "8d536275b24e416ea13848958f64a65e",
            "fe5ea80d442c4fe98b837af60f66f90b",
            "e636ce7b5feb4904bc77f62f6961afd6",
            "c1a69a0cd14e41b997863ae00b0fbb4c",
            "99581e7c794041dd9a904871795ba904",
            "8e7f5406d69b4519af4b73a7322f8c57",
            "5e963052820d4df195b64be4722a4f48",
            "4786b3e2e63f44d1a7232d7ddc917c5c",
            "c3c73f09694741acb4773f03b68ddb2b",
            "921fcd43c914496f81bbb089a72c5bf1",
            "d9aec6aabf1744d4a772354de15df691",
            "0451f26163a94845b7d5e4fee3150025",
            "9a29726ace194ce9bfeaa00f30a4d01b",
            "5657740434e448a8ac6f5ef6083728d8",
            "9265420c336a46d59a4065cb9d6455de",
            "658922483518400fbd071ee75fb9f71a"
          ]
        },
        "id": "qXt7c_E3tcM7",
        "outputId": "a60c949a-ed46-4345-ab4f-1e5f4b19f393"
      },
      "execution_count": 10,
      "outputs": [
        {
          "output_type": "display_data",
          "data": {
            "text/plain": [
              "IntText(value=0, description='Año nacimiento:')"
            ],
            "application/vnd.jupyter.widget-view+json": {
              "version_major": 2,
              "version_minor": 0,
              "model_id": "476f1bd3e05e461f9b4aedb7d13992cc"
            }
          },
          "metadata": {}
        },
        {
          "output_type": "display_data",
          "data": {
            "text/plain": [
              "Text(value='', description='Educación:')"
            ],
            "application/vnd.jupyter.widget-view+json": {
              "version_major": 2,
              "version_minor": 0,
              "model_id": "d9f5b40495934e10b75d685d8d99ba0c"
            }
          },
          "metadata": {}
        },
        {
          "output_type": "display_data",
          "data": {
            "text/plain": [
              "Text(value='', description='Estado civil:')"
            ],
            "application/vnd.jupyter.widget-view+json": {
              "version_major": 2,
              "version_minor": 0,
              "model_id": "fe5ea80d442c4fe98b837af60f66f90b"
            }
          },
          "metadata": {}
        },
        {
          "output_type": "display_data",
          "data": {
            "text/plain": [
              "FloatText(value=0.0, description='Ingresos:')"
            ],
            "application/vnd.jupyter.widget-view+json": {
              "version_major": 2,
              "version_minor": 0,
              "model_id": "99581e7c794041dd9a904871795ba904"
            }
          },
          "metadata": {}
        },
        {
          "output_type": "display_data",
          "data": {
            "text/plain": [
              "IntText(value=0, description='Hogar con niños (1 es si y 0 es no):')"
            ],
            "application/vnd.jupyter.widget-view+json": {
              "version_major": 2,
              "version_minor": 0,
              "model_id": "4786b3e2e63f44d1a7232d7ddc917c5c"
            }
          },
          "metadata": {}
        },
        {
          "output_type": "display_data",
          "data": {
            "text/plain": [
              "IntText(value=0, description='Hogar con adolescentes (1 es si y 0 es no):')"
            ],
            "application/vnd.jupyter.widget-view+json": {
              "version_major": 2,
              "version_minor": 0,
              "model_id": "d9aec6aabf1744d4a772354de15df691"
            }
          },
          "metadata": {}
        },
        {
          "output_type": "display_data",
          "data": {
            "text/plain": [
              "Button(description='Predecir', style=ButtonStyle())"
            ],
            "application/vnd.jupyter.widget-view+json": {
              "version_major": 2,
              "version_minor": 0,
              "model_id": "5657740434e448a8ac6f5ef6083728d8"
            }
          },
          "metadata": {}
        }
      ]
    },
    {
      "cell_type": "markdown",
      "source": [
        "Los resultados para una mujer casada nacida en 1972, graduada de una licenciatura con ingresos mensuales de 4500, un hogar sin hijos pero con adolescentes tiene los siguientes resultados\n",
        "\n",
        "\n",
        "![image.png](data:image/png;base64,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)"
      ],
      "metadata": {
        "id": "Sg2ZXjlSXVNr"
      }
    },
    {
      "cell_type": "code",
      "source": [],
      "metadata": {
        "id": "m21Xl5HMWHBW"
      },
      "execution_count": null,
      "outputs": []
    },
    {
      "cell_type": "markdown",
      "source": [
        "Para una mujer divorciada nacida en 1976, sin estudios universitarios con ingresos mensuales de 8000 que tiene niños pequeños y adolescentes tiene los siguientes resultados:\n",
        "\n",
        "\n",
        "![image.png](data:image/png;base64,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)"
      ],
      "metadata": {
        "id": "DYOn6Ug8Yg4h"
      }
    },
    {
      "cell_type": "markdown",
      "source": [
        "Una mujer sioltera nacida en 1998 con un doctorado sin niños y sin adolescentes con un ingreso de 7680 tiene los siguientes resultados:\n",
        "\n",
        "\n",
        "![image.png](data:image/png;base64,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)"
      ],
      "metadata": {
        "id": "OjOFrcS3acYx"
      }
    }
  ]
}